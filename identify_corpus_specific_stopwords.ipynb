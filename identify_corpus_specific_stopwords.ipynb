{
 "cells": [
  {
   "cell_type": "code",
   "execution_count": null,
   "metadata": {},
   "outputs": [],
   "source": [
    "from utils import non_corpus_specific_stopwords, make_corpus_df, make_list_of_processed_snippets, get_corpus_specific_stopwords"
   ]
  },
  {
   "cell_type": "code",
   "execution_count": 3,
   "metadata": {},
   "outputs": [
    {
     "data": {
      "text/plain": [
       "{'change', 'climate', 'global', 'warming'}"
      ]
     },
     "execution_count": 3,
     "metadata": {},
     "output_type": "execute_result"
    }
   ],
   "source": [
    "data_dir = './TelevisionNewsV2'\n",
    "corpus_df = make_corpus_df(data_dir)\n",
    "processed_snippets = make_list_of_processed_snippets(corpus_df, non_corpus_specific_stopwords)\n",
    "corpus_specific_stopwords_list = get_corpus_specific_stopwords(processed_snippets, max_df=0.2)\n",
    "corpus_specific_stopwords_list"
   ]
  }
 ],
 "metadata": {
  "kernelspec": {
   "display_name": "Python 3",
   "language": "python",
   "name": "python3"
  },
  "language_info": {
   "codemirror_mode": {
    "name": "ipython",
    "version": 3
   },
   "file_extension": ".py",
   "mimetype": "text/x-python",
   "name": "python",
   "nbconvert_exporter": "python",
   "pygments_lexer": "ipython3",
   "version": "3.7.6"
  }
 },
 "nbformat": 4,
 "nbformat_minor": 4
}
