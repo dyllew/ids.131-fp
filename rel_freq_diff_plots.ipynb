{
 "cells": [
  {
   "cell_type": "code",
   "execution_count": null,
   "metadata": {},
   "outputs": [],
   "source": [
    "import pandas as pd\n",
    "from sklearn.feature_extraction.text import CountVectorizer\n",
    "\n",
    "from utils import stop_words, make_corpus_df, get_data_by_year, make_list_of_processed_snippets"
   ]
  },
  {
   "cell_type": "code",
   "execution_count": 3,
   "metadata": {},
   "outputs": [],
   "source": [
    "data_dir = './TelevisionNewsV2'\n",
    "corpus_df = make_corpus_df(data_dir)\n",
    "\n",
    "data_2009 = get_data_by_year(corpus_df, 2009)\n",
    "data_2020 = get_data_by_year(corpus_df, 2020)\n",
    "data_2019 = get_data_by_year(corpus_df, 2019)\n",
    "data_19_20 = pd.concat([data_2019, data_2020])"
   ]
  },
  {
   "cell_type": "code",
   "execution_count": 5,
   "metadata": {},
   "outputs": [],
   "source": [
    "processed_snippets_2009 = make_list_of_processed_snippets(data_2009, stop_words)\n",
    "processed_snippets_19_20 = make_list_of_processed_snippets(data_19_20, stop_words)"
   ]
  },
  {
   "cell_type": "code",
   "execution_count": null,
   "metadata": {},
   "outputs": [],
   "source": []
  }
 ],
 "metadata": {
  "kernelspec": {
   "display_name": "Python 3",
   "language": "python",
   "name": "python3"
  },
  "language_info": {
   "codemirror_mode": {
    "name": "ipython",
    "version": 3
   },
   "file_extension": ".py",
   "mimetype": "text/x-python",
   "name": "python",
   "nbconvert_exporter": "python",
   "pygments_lexer": "ipython3",
   "version": "3.7.6"
  }
 },
 "nbformat": 4,
 "nbformat_minor": 4
}
