{
 "cells": [
  {
   "cell_type": "code",
   "execution_count": 1,
   "metadata": {},
   "outputs": [
    {
     "name": "stderr",
     "output_type": "stream",
     "text": [
      "[nltk_data] Downloading package stopwords to\n",
      "[nltk_data]     /Users/adamblock/nltk_data...\n",
      "[nltk_data]   Package stopwords is already up-to-date!\n",
      "[nltk_data] Downloading package wordnet to\n",
      "[nltk_data]     /Users/adamblock/nltk_data...\n",
      "[nltk_data]   Package wordnet is already up-to-date!\n",
      "[nltk_data] Downloading package punkt to /Users/adamblock/nltk_data...\n",
      "[nltk_data]   Package punkt is already up-to-date!\n"
     ]
    }
   ],
   "source": [
    "import pandas as pd\n",
    "import matplotlib.pyplot as plt\n",
    "import numpy as np\n",
    "import nltk\n",
    "from utils import *\n",
    "import re\n",
    "import gensim\n",
    "from gensim.models.nmf import Nmf\n",
    "from gensim.models.coherencemodel import CoherenceModel\n",
    "from itertools import combinations\n",
    "from joblib import dump, load\n",
    "from sklearn.feature_extraction.text import CountVectorizer\n",
    "from sklearn.decomposition import LatentDirichletAllocation"
   ]
  },
  {
   "cell_type": "code",
   "execution_count": 2,
   "metadata": {},
   "outputs": [
    {
     "name": "stderr",
     "output_type": "stream",
     "text": [
      "[nltk_data] Downloading package stopwords to\n",
      "[nltk_data]     /Users/adamblock/nltk_data...\n",
      "[nltk_data]   Package stopwords is already up-to-date!\n",
      "[nltk_data] Downloading package wordnet to\n",
      "[nltk_data]     /Users/adamblock/nltk_data...\n",
      "[nltk_data]   Package wordnet is already up-to-date!\n",
      "[nltk_data] Downloading package punkt to /Users/adamblock/nltk_data...\n",
      "[nltk_data]   Package punkt is already up-to-date!\n"
     ]
    },
    {
     "data": {
      "text/plain": [
       "True"
      ]
     },
     "execution_count": 2,
     "metadata": {},
     "output_type": "execute_result"
    }
   ],
   "source": [
    "nltk.download('stopwords')\n",
    "nltk.download('wordnet')\n",
    "nltk.download('punkt')"
   ]
  },
  {
   "cell_type": "code",
   "execution_count": 3,
   "metadata": {},
   "outputs": [
    {
     "data": {
      "text/plain": [
       "{'change',\n",
       " 'climate',\n",
       " 'dont',\n",
       " 'global',\n",
       " 'he',\n",
       " 'im',\n",
       " 'say',\n",
       " 'thats',\n",
       " 'thing',\n",
       " 'warming'}"
      ]
     },
     "execution_count": 3,
     "metadata": {},
     "output_type": "execute_result"
    }
   ],
   "source": [
    "corpus_specific_stopwords"
   ]
  },
  {
   "cell_type": "markdown",
   "metadata": {},
   "source": [
    "# Getting and Preprocessing Data"
   ]
  },
  {
   "cell_type": "code",
   "execution_count": 4,
   "metadata": {},
   "outputs": [],
   "source": [
    "PARENT = \"../TelevisionNews/\""
   ]
  },
  {
   "cell_type": "code",
   "execution_count": 5,
   "metadata": {},
   "outputs": [],
   "source": [
    "cnn, fox, msnbc = get_data(PARENT)"
   ]
  },
  {
   "cell_type": "code",
   "execution_count": 58,
   "metadata": {},
   "outputs": [],
   "source": [
    "cnn[\"cleanSnip\"] = cnn[\"Snippet\"].apply(lambda x: preprocessing(x, stop_words,False))\n",
    "fox[\"cleanSnip\"] = fox[\"Snippet\"].apply(lambda x: preprocessing(x, stop_words,False))\n",
    "msnbc[\"cleanSnip\"] = msnbc[\"Snippet\"].apply(lambda x: preprocessing(x, stop_words,False))"
   ]
  },
  {
   "cell_type": "code",
   "execution_count": 59,
   "metadata": {},
   "outputs": [],
   "source": [
    "all_shows = pd.concat([cnn,fox,msnbc])"
   ]
  },
  {
   "cell_type": "markdown",
   "metadata": {},
   "source": [
    "# Model Selection with `gensim`"
   ]
  },
  {
   "cell_type": "code",
   "execution_count": 60,
   "metadata": {},
   "outputs": [],
   "source": [
    "corpus = list(all_shows[\"cleanSnip\"])"
   ]
  },
  {
   "cell_type": "code",
   "execution_count": 62,
   "metadata": {},
   "outputs": [],
   "source": [
    "dictionary = gensim.corpora.Dictionary(corpus)"
   ]
  },
  {
   "cell_type": "code",
   "execution_count": 65,
   "metadata": {},
   "outputs": [],
   "source": [
    "common_corpus = [dictionary.doc2bow(text) for text in corpus]"
   ]
  },
  {
   "cell_type": "markdown",
   "metadata": {},
   "source": [
    "## Training NMF models"
   ]
  },
  {
   "cell_type": "code",
   "execution_count": 89,
   "metadata": {},
   "outputs": [],
   "source": [
    "cm = CoherenceModel(model=nmf, texts=all_shows[\"cleanSnip\"], coherence='c_v')\n",
    "coherence = cm.get_coherence()"
   ]
  },
  {
   "cell_type": "code",
   "execution_count": 91,
   "metadata": {},
   "outputs": [
    {
     "name": "stdout",
     "output_type": "stream",
     "text": [
      "Working on k = 5\n",
      "Working on k = 6\n",
      "Working on k = 7\n",
      "Working on k = 8\n",
      "Working on k = 9\n",
      "Working on k = 10\n",
      "Working on k = 11\n",
      "Working on k = 12\n",
      "Working on k = 13\n",
      "Working on k = 14\n",
      "Working on k = 15\n",
      "Working on k = 16\n"
     ]
    }
   ],
   "source": [
    "topic_range = range(5,17)\n",
    "nmf_models = []\n",
    "for k in topic_range:\n",
    "    print(f\"Working on k = {k}\")\n",
    "    model = Nmf(common_corpus, num_topics=k, id2word=dictionary)\n",
    "    nmf_models.append(model)"
   ]
  },
  {
   "cell_type": "markdown",
   "metadata": {},
   "source": [
    "## Getting Coherences"
   ]
  },
  {
   "cell_type": "code",
   "execution_count": 143,
   "metadata": {},
   "outputs": [
    {
     "name": "stdout",
     "output_type": "stream",
     "text": [
      "Working on k = 5\n",
      "Working on k = 6\n",
      "Working on k = 7\n",
      "Working on k = 8\n",
      "Working on k = 9\n",
      "Working on k = 10\n",
      "Working on k = 11\n",
      "Working on k = 12\n",
      "Working on k = 13\n",
      "Working on k = 14\n",
      "Working on k = 15\n",
      "Working on k = 16\n"
     ]
    }
   ],
   "source": [
    "coherence_models = []\n",
    "coherences = []\n",
    "for k in topic_range:\n",
    "    print(f\"Working on k = {k}\")\n",
    "    coherence_model = CoherenceModel(model=nmf_models[k -5], texts=all_shows[\"cleanSnip\"], coherence='c_v')\n",
    "    coherence = coherence_model.get_coherence()\n",
    "    coherence_models.append(coherence_model)\n",
    "    coherences.append(coherence)\n",
    "    "
   ]
  },
  {
   "cell_type": "code",
   "execution_count": 151,
   "metadata": {},
   "outputs": [
    {
     "data": {
      "image/png": "[encoded data removed]",
      "text/plain": [
       "<Figure size 432x288 with 1 Axes>"
      ]
     },
     "metadata": {
      "needs_background": "light"
     },
     "output_type": "display_data"
    }
   ],
   "source": [
    "fig, ax = plt.subplots()\n",
    "ax.plot(topic_range, coherences)\n",
    "ax.set_xlabel(\"Number of Topics\")\n",
    "ax.set_ylabel(\"Coherence (c_v)\")\n",
    "fig.suptitle(\"Average Coherence of Topics (NMF)\")\n",
    "fig.savefig(\"./plots/Coherences.png\")\n",
    "plt.show()\n"
   ]
  },
  {
   "cell_type": "markdown",
   "metadata": {},
   "source": [
    "## Showing Topic words with `gensim`"
   ]
  },
  {
   "cell_type": "code",
   "execution_count": 135,
   "metadata": {},
   "outputs": [],
   "source": [
    "def get_words(topic):\n",
    "    words = []\n",
    "    i = 0\n",
    "    while i < len(topic):\n",
    "        char = topic[i]\n",
    "\n",
    "        if char == \"*\":\n",
    "            i += 2\n",
    "            word = \"\"\n",
    "            char = topic[i]\n",
    "            while char.isalpha():\n",
    "                word += char\n",
    "                i += 1\n",
    "                char = topic[i]\n",
    "            words += [word]\n",
    "            i+=1\n",
    "        else:\n",
    "            i += 1\n",
    "        \n",
    "    return words\n",
    "                "
   ]
  },
  {
   "cell_type": "code",
   "execution_count": 141,
   "metadata": {},
   "outputs": [],
   "source": [
    "def show_topic(model, num_words):\n",
    "    i = 0\n",
    "    for _, topic in model.show_topics(0,num_words):\n",
    "        words = get_words(topic)\n",
    "        out = f\"Topic {i}:\\t\"\n",
    "        for word in words:\n",
    "            out += word + \", \"\n",
    "        print(out)\n",
    "        i+= 1"
   ]
  },
  {
   "cell_type": "markdown",
   "metadata": {},
   "source": [
    "# TFIDF and NMF"
   ]
  },
  {
   "cell_type": "code",
   "execution_count": 8,
   "metadata": {},
   "outputs": [],
   "source": [
    "def display_topics(model, feature_names, no_top_words=5):\n",
    "    for topic_idx, topic in enumerate(model.components_):\n",
    "        print(\"Topic %d:\" % (topic_idx))\n",
    "        print(\" \".join([feature_names[i]\n",
    "                          for i in topic.argsort()[:-no_top_words - 1:-1]]))"
   ]
  },
  {
   "cell_type": "code",
   "execution_count": 9,
   "metadata": {},
   "outputs": [],
   "source": [
    "tfidf_vectorizer = TfidfVectorizer(max_df=0.90, min_df =25, max_features=5000, use_idf=True)\n",
    "tfidf = tfidf_vectorizer.fit_transform(all_shows['cleanSnip'])\n",
    "tfidf_feature_names = tfidf_vectorizer.get_feature_names()"
   ]
  },
  {
   "cell_type": "code",
   "execution_count": 153,
   "metadata": {},
   "outputs": [],
   "source": [
    "NUM_TOPICS = 10"
   ]
  },
  {
   "cell_type": "code",
   "execution_count": 154,
   "metadata": {},
   "outputs": [
    {
     "name": "stderr",
     "output_type": "stream",
     "text": [
      "/Users/adamblock/opt/anaconda3/lib/python3.8/site-packages/sklearn/decomposition/_nmf.py:1076: ConvergenceWarning: Maximum number of iterations 200 reached. Increase it to improve convergence.\n",
      "  warnings.warn(\"Maximum number of iterations %d reached. Increase it to\"\n"
     ]
    }
   ],
   "source": [
    "nmf = NMF(n_components=NUM_TOPICS).fit(tfidf)"
   ]
  },
  {
   "cell_type": "code",
   "execution_count": 155,
   "metadata": {},
   "outputs": [
    {
     "name": "stdout",
     "output_type": "stream",
     "text": [
      "Topic 0:\n",
      "new year one time right well back much next last\n",
      "Topic 1:\n",
      "gas greenhouse emission cut growing fuel reduce potential keep half\n",
      "Topic 2:\n",
      "going get touched everywhere pot impacted specie melting go youre\n",
      "Topic 3:\n",
      "president trump obama said house donald white paris administration hoax\n",
      "Topic 4:\n",
      "talk scientist sensor road tree network car internet everything call\n",
      "Topic 5:\n",
      "issue care health like republican immigration democrat important gun reform\n",
      "Topic 6:\n",
      "think he would going well something lot there really important\n",
      "Topic 7:\n",
      "world state country united america nation threat make facing leader\n",
      "Topic 8:\n",
      "people want american lot like thing get job young tax\n",
      "Topic 9:\n",
      "believe know science real scientist said human doesnt question man\n"
     ]
    }
   ],
   "source": [
    "display_topics(nmf, tfidf_feature_names,10)"
   ]
  },
  {
   "cell_type": "code",
   "execution_count": 156,
   "metadata": {},
   "outputs": [
    {
     "data": {
      "text/plain": [
       "['./models/NMF_all_10_topics.joblib']"
      ]
     },
     "execution_count": 156,
     "metadata": {},
     "output_type": "execute_result"
    }
   ],
   "source": [
    "dump(nmf, f\"./models/NMF_all_{NUM_TOPICS}_topics.joblib\")"
   ]
  },
  {
   "cell_type": "code",
   "execution_count": 30,
   "metadata": {},
   "outputs": [],
   "source": [
    "nmf = load(\"./models/NMF_all_10_topics.joblib\")"
   ]
  },
  {
   "cell_type": "code",
   "execution_count": null,
   "metadata": {},
   "outputs": [],
   "source": []
  },
  {
   "cell_type": "code",
   "execution_count": null,
   "metadata": {},
   "outputs": [],
   "source": []
  },
  {
   "cell_type": "code",
   "execution_count": null,
   "metadata": {},
   "outputs": [],
   "source": []
  },
  {
   "cell_type": "code",
   "execution_count": null,
   "metadata": {},
   "outputs": [],
   "source": []
  }
 ],
 "metadata": {
  "kernelspec": {
   "display_name": "Python 3",
   "language": "python",
   "name": "python3"
  },
  "language_info": {
   "codemirror_mode": {
    "name": "ipython",
    "version": 3
   },
   "file_extension": ".py",
   "mimetype": "text/x-python",
   "name": "python",
   "nbconvert_exporter": "python",
   "pygments_lexer": "ipython3",
   "version": "3.8.5"
  }
 },
 "nbformat": 4,
 "nbformat_minor": 4
}
